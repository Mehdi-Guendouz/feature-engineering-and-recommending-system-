{
 "cells": [
  {
   "cell_type": "code",
   "execution_count": 1,
   "id": "b3a7856e",
   "metadata": {
    "_cell_guid": "b1076dfc-b9ad-4769-8c92-a6c4dae69d19",
    "_uuid": "8f2839f25d086af736a60e9eeb907d3b93b6e0e5",
    "execution": {
     "iopub.execute_input": "2023-12-19T17:13:19.941691Z",
     "iopub.status.busy": "2023-12-19T17:13:19.941349Z",
     "iopub.status.idle": "2023-12-19T17:13:20.849123Z",
     "shell.execute_reply": "2023-12-19T17:13:20.847712Z"
    },
    "papermill": {
     "duration": 0.913676,
     "end_time": "2023-12-19T17:13:20.851431",
     "exception": false,
     "start_time": "2023-12-19T17:13:19.937755",
     "status": "completed"
    },
    "tags": []
   },
   "outputs": [],
   "source": [
    "# This Python 3 environment comes with many helpful analytics libraries installed\n",
    "# It is defined by the kaggle/python Docker image: https://github.com/kaggle/docker-python\n",
    "# For example, here's several helpful packages to load\n",
    "\n",
    "import numpy as np # linear algebra\n",
    "import pandas as pd # data processing, CSV file I/O (e.g. pd.read_csv)\n",
    "\n",
    "# Input data files are available in the read-only \"../input/\" directory\n",
    "# For example, running this (by clicking run or pressing Shift+Enter) will list all files under the input directory\n",
    "\n",
    "import os\n",
    "for dirname, _, filenames in os.walk('/kaggle/input/test-file/tested.csv'):\n",
    "    for filename in filenames:\n",
    "        print(os.path.join(dirname, filename))\n",
    "\n",
    "# You can write up to 20GB to the current directory (/kaggle/working/) that gets preserved as output when you create a version using \"Save & Run All\" \n",
    "# You can also write temporary files to /kaggle/temp/, but they won't be saved outside of the current session"
   ]
  },
  {
   "cell_type": "code",
   "execution_count": 2,
   "id": "00478b05",
   "metadata": {
    "execution": {
     "iopub.execute_input": "2023-12-19T17:13:20.856362Z",
     "iopub.status.busy": "2023-12-19T17:13:20.855879Z",
     "iopub.status.idle": "2023-12-19T17:13:24.086753Z",
     "shell.execute_reply": "2023-12-19T17:13:24.085123Z"
    },
    "papermill": {
     "duration": 3.235827,
     "end_time": "2023-12-19T17:13:24.089062",
     "exception": false,
     "start_time": "2023-12-19T17:13:20.853235",
     "status": "completed"
    },
    "tags": []
   },
   "outputs": [
    {
     "name": "stdout",
     "output_type": "stream",
     "text": [
      "Step 1: Dataset Description\n",
      "         survived      pclass         age       sibsp       parch        fare\n",
      "count  891.000000  891.000000  714.000000  891.000000  891.000000  891.000000\n",
      "mean     0.383838    2.308642   29.699118    0.523008    0.381594   32.204208\n",
      "std      0.486592    0.836071   14.526497    1.102743    0.806057   49.693429\n",
      "min      0.000000    1.000000    0.420000    0.000000    0.000000    0.000000\n",
      "25%      0.000000    2.000000   20.125000    0.000000    0.000000    7.910400\n",
      "50%      0.000000    3.000000   28.000000    0.000000    0.000000   14.454200\n",
      "75%      1.000000    3.000000   38.000000    1.000000    0.000000   31.000000\n",
      "max      1.000000    3.000000   80.000000    8.000000    6.000000  512.329200\n",
      "\n",
      "Step 2: Cleaned Data\n",
      "   survived  pclass       age  sibsp  parch      fare  sex_male\n",
      "0         0       3 -0.592481      1      0 -0.502445      True\n",
      "1         1       1  0.638789      1      0  0.786845     False\n",
      "2         1       3 -0.284663      0      0 -0.488854     False\n",
      "3         1       1  0.407926      1      0  0.420730     False\n",
      "4         0       3  0.407926      0      0 -0.486337      True\n",
      "\n",
      "Step 3: Information Gain of each feature\n",
      "    Feature  Information Gain\n",
      "5  sex_male          0.162569\n",
      "4      fare          0.140723\n",
      "0    pclass          0.052016\n",
      "2     sibsp          0.035514\n",
      "1       age          0.006479\n",
      "3     parch          0.000000\n",
      "\n",
      "(a) Features: ['age', 'fare'], Precision: 0.6346153846153846\n",
      "\n",
      "(a) Features: ['age', 'fare', 'sex_male'], Precision: 0.7288135593220338\n",
      "\n",
      "(b) K-Value: 3, Precision: 0.7413793103448276\n",
      "\n",
      "(b) K-Value: 5, Precision: 0.7288135593220338\n",
      "\n",
      "(b) K-Value: 7, Precision: 0.746031746031746\n",
      "\n",
      "(c) Metric: euclidean, Precision: 0.7288135593220338\n",
      "\n",
      "(c) Metric: manhattan, Precision: 0.7333333333333333\n"
     ]
    },
    {
     "data": {
      "image/png": "[encoded data removed]",
      "text/plain": [
       "<Figure size 1000x500 with 1 Axes>"
      ]
     },
     "metadata": {},
     "output_type": "display_data"
    }
   ],
   "source": [
    "import pandas as pd\n",
    "import seaborn as sns\n",
    "from sklearn.model_selection import train_test_split\n",
    "from sklearn.preprocessing import StandardScaler\n",
    "from sklearn.neighbors import KNeighborsClassifier\n",
    "from sklearn.metrics import precision_score\n",
    "import matplotlib.pyplot as plt\n",
    "from sklearn.feature_selection import mutual_info_classif\n",
    "\n",
    "# Load the Titanic dataset\n",
    "titanic = sns.load_dataset('titanic')\n",
    "\n",
    "# Step 1: Short description using corresponding statistical indicators\n",
    "print(\"Step 1: Dataset Description\")\n",
    "print(titanic.describe())\n",
    "\n",
    "# Step 2: Clean the data\n",
    "# Drop unnecessary features\n",
    "titanic_cleaned = titanic.drop(['embarked', 'class', 'who', 'adult_male', 'embark_town', 'alive', 'alone', 'deck'], axis=1)\n",
    "\n",
    "# Handling missing values (for simplicity, filling missing age values with the mean)\n",
    "titanic_cleaned['age'].fillna(titanic_cleaned['age'].mean(), inplace=True)\n",
    "\n",
    "# Convert categorical variables to numerical (for simplicity, using get_dummies for 'sex' feature)\n",
    "titanic_cleaned = pd.get_dummies(titanic_cleaned, columns=['sex'], drop_first=True)\n",
    "\n",
    "# Standardize the data\n",
    "scaler = StandardScaler()\n",
    "titanic_cleaned[['age', 'fare']] = scaler.fit_transform(titanic_cleaned[['age', 'fare']])\n",
    "\n",
    "print(\"\\nStep 2: Cleaned Data\")\n",
    "print(titanic_cleaned.head())\n",
    "\n",
    "# Step 3: Measure information gain\n",
    "X = titanic_cleaned.drop('survived', axis=1)\n",
    "y = titanic_cleaned['survived']\n",
    "\n",
    "information_gain = mutual_info_classif(X, y, discrete_features='auto', random_state=42)\n",
    "information_gain_df = pd.DataFrame({'Feature': X.columns, 'Information Gain': information_gain}).sort_values(by='Information Gain', ascending=False)\n",
    "print(\"\\nStep 3: Information Gain of each feature\")\n",
    "print(information_gain_df)\n",
    "\n",
    "# Step 4: Build a classification model using K-NN\n",
    "# Split the data into training and testing sets\n",
    "X_train, X_test, y_train, y_test = train_test_split(X, y, test_size=0.2, random_state=42)\n",
    "\n",
    "# Function to evaluate K-NN model with different configurations\n",
    "def evaluate_knn(features, k_value, metric):\n",
    "    knn = KNeighborsClassifier(n_neighbors=k_value, metric=metric)\n",
    "    knn.fit(X_train[features], y_train)\n",
    "    y_pred = knn.predict(X_test[features])\n",
    "    precision = precision_score(y_test, y_pred)\n",
    "    return precision\n",
    "\n",
    "# (a) Test different number of features\n",
    "feature_combinations = [['age', 'fare'], ['age', 'fare', 'sex_male']]\n",
    "for features in feature_combinations:\n",
    "    precision_result = evaluate_knn(features, k_value=5, metric='euclidean')\n",
    "    print(f\"\\n(a) Features: {features}, Precision: {precision_result}\")\n",
    "\n",
    "# (b) Test different number of K\n",
    "k_values = [3, 5, 7]\n",
    "for k_value in k_values:\n",
    "    precision_result = evaluate_knn(['age', 'fare', 'sex_male'], k_value=k_value, metric='euclidean')\n",
    "    print(f\"\\n(b) K-Value: {k_value}, Precision: {precision_result}\")\n",
    "\n",
    "# (c) Test different similarity measures\n",
    "metrics = ['euclidean', 'manhattan']\n",
    "for metric in metrics:\n",
    "    precision_result = evaluate_knn(['age', 'fare', 'sex_male'], k_value=5, metric=metric)\n",
    "    print(f\"\\n(c) Metric: {metric}, Precision: {precision_result}\")\n",
    "\n",
    "# Visualize and interpret results\n",
    "# For simplicity, you may use a bar plot to compare precision results for different configurations.\n",
    "plt.figure(figsize=(10, 5))\n",
    "plt.bar(information_gain_df['Feature'], information_gain_df['Information Gain'], color='blue', alpha=0.7)\n",
    "plt.title('Information Gain of Features')\n",
    "plt.xlabel('Features')\n",
    "plt.ylabel('Information Gain')\n",
    "plt.show()\n"
   ]
  }
 ],
 "metadata": {
  "kaggle": {
   "accelerator": "none",
   "dataSources": [
    {
     "datasetId": 826163,
     "sourceId": 2879186,
     "sourceType": "datasetVersion"
    }
   ],
   "dockerImageVersionId": 30626,
   "isGpuEnabled": false,
   "isInternetEnabled": true,
   "language": "python",
   "sourceType": "notebook"
  },
  "kernelspec": {
   "display_name": "Python 3",
   "language": "python",
   "name": "python3"
  },
  "language_info": {
   "codemirror_mode": {
    "name": "ipython",
    "version": 3
   },
   "file_extension": ".py",
   "mimetype": "text/x-python",
   "name": "python",
   "nbconvert_exporter": "python",
   "pygments_lexer": "ipython3",
   "version": "3.10.12"
  },
  "papermill": {
   "default_parameters": {},
   "duration": 9.078599,
   "end_time": "2023-12-19T17:13:24.713678",
   "environment_variables": {},
   "exception": null,
   "input_path": "__notebook__.ipynb",
   "output_path": "__notebook__.ipynb",
   "parameters": {},
   "start_time": "2023-12-19T17:13:15.635079",
   "version": "2.4.0"
  }
 },
 "nbformat": 4,
 "nbformat_minor": 5
}
